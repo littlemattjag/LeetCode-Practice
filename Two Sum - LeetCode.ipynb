{
 "cells": [
  {
   "cell_type": "code",
   "execution_count": 1,
   "metadata": {},
   "outputs": [],
   "source": [
    "# Given an array of integers, return indices of the two numbers such that they add up to a specific target.\n",
    "## You may assume that each input would have exactly one solution, and you may not use the same element twice."
   ]
  },
  {
   "cell_type": "code",
   "execution_count": 37,
   "metadata": {},
   "outputs": [],
   "source": [
    "nums = [2,10,22,7,11,15]\n",
    "\n",
    "target = 9"
   ]
  },
  {
   "cell_type": "code",
   "execution_count": 16,
   "metadata": {},
   "outputs": [
    {
     "data": {
      "text/plain": [
       "True"
      ]
     },
     "execution_count": 16,
     "metadata": {},
     "output_type": "execute_result"
    }
   ],
   "source": [
    "7 in nums"
   ]
  },
  {
   "cell_type": "code",
   "execution_count": 14,
   "metadata": {},
   "outputs": [
    {
     "name": "stdout",
     "output_type": "stream",
     "text": [
      "[0, 1]\n"
     ]
    }
   ],
   "source": [
    "# Brute Force Method\n",
    "\n",
    "for a in range(0,len(nums)):\n",
    "    for b in range(a,len(nums)):\n",
    "        if nums[a]+nums[b] == target:\n",
    "            print([a,b])"
   ]
  },
  {
   "cell_type": "code",
   "execution_count": 42,
   "metadata": {},
   "outputs": [
    {
     "name": "stdout",
     "output_type": "stream",
     "text": [
      "[0, 3]\n"
     ]
    }
   ],
   "source": [
    "a = {}\n",
    "\n",
    "for i, num in enumerate(nums): # enumerate returns the index(i) and value(num) in a tuple\n",
    "    if target-num in a: # IF the complement (target - value) is in the dictionary, we return the key ~ which gives us the value..\n",
    "        print([a[target-num],i])\n",
    "    else:\n",
    "        a[num] = i "
   ]
  },
  {
   "cell_type": "code",
   "execution_count": 51,
   "metadata": {},
   "outputs": [
    {
     "name": "stdout",
     "output_type": "stream",
     "text": [
      "0 3\n"
     ]
    }
   ],
   "source": [
    "a = {} # Create a dictionary to store some complement and their index positions. \n",
    "\n",
    "for i in range(len(nums)): #basically iterating through index\n",
    "    x = nums[i] # x is equaling the value at the given position\n",
    "    if target-x in a: # IF the target - x is in the dictionary keys, we can get it to return the complements index along with the current index position (i)\n",
    "        print(a[target-x],i)\n",
    "    else:\n",
    "        a[x] = i # If the complement pair is NOT, we can store the value with its index so as we iterate, if we come across one that is a compliment, it will be there.."
   ]
  },
  {
   "cell_type": "code",
   "execution_count": 52,
   "metadata": {},
   "outputs": [
    {
     "data": {
      "text/plain": [
       "{2: 0, 10: 1, 22: 2, 11: 4, 15: 5}"
      ]
     },
     "execution_count": 52,
     "metadata": {},
     "output_type": "execute_result"
    }
   ],
   "source": [
    "a"
   ]
  },
  {
   "cell_type": "code",
   "execution_count": null,
   "metadata": {},
   "outputs": [],
   "source": []
  }
 ],
 "metadata": {
  "kernelspec": {
   "display_name": "Python 3",
   "language": "python",
   "name": "python3"
  },
  "language_info": {
   "codemirror_mode": {
    "name": "ipython",
    "version": 3
   },
   "file_extension": ".py",
   "mimetype": "text/x-python",
   "name": "python",
   "nbconvert_exporter": "python",
   "pygments_lexer": "ipython3",
   "version": "3.7.4"
  }
 },
 "nbformat": 4,
 "nbformat_minor": 2
}
